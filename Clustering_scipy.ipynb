{
  "nbformat": 4,
  "nbformat_minor": 0,
  "metadata": {
    "colab": {
      "provenance": []
    },
    "kernelspec": {
      "name": "python3",
      "display_name": "Python 3"
    },
    "language_info": {
      "name": "python"
    }
  },
  "cells": [
    {
      "cell_type": "markdown",
      "source": [
        "Hierarchical clustering for graph G using scipy and linkage (euclidean distance)"
      ],
      "metadata": {
        "id": "lKORlrxWTEFG"
      }
    },
    {
      "cell_type": "markdown",
      "source": [
        "In this part, linkage from scipy.cluster.hierarchy is used to perform hierarchical clustering for the graph G.\n",
        "Clustering usually starts by computing a distance between every pair of units that you want to cluster.  A distance matrix will be symmetric (because the distance between x and y is the same as the distance between y and x) and will have zeroes on the diagonal (because every item is distance zero from itself). \n",
        "\n",
        "In the other part for this task, I tried to find distance matrix between all the nodes in graph, using nx.all_short_path_length. The code used so much time to execute, but I think it is better way to use that matrix for distance matrix in order to obtain linkage. \n",
        "Standard parametar for linkage function is metrics, which is usually euclidean distance between two instances. That is tricky part, because this way we are not sure in which context this function uses euclidean distance between two nodes from df_1['id'].\n",
        "However, this is the way to perform hierarchical clustering, using scipy. \n",
        "After creating distance matrix, two clusters that are closest in distance are merging in one cluster, and distance matrix is being updated with regard to the new clusters. This repeats iterativly until only one cluster is a result. \n",
        "\n",
        "Agglomerative hierarchical clustering is used, which is specific for bottom-up priciple. (In the other hand, divisive clustering use top-down principle).\n",
        "\n",
        "Complete linkage takes the distance between the clusters as the maximumum distance, d(i,j) where i is within claster C1, and j is within claster C2.\n",
        "\n"
      ],
      "metadata": {
        "id": "UwxagPqmRETG"
      }
    },
    {
      "cell_type": "code",
      "execution_count": 2,
      "metadata": {
        "colab": {
          "base_uri": "https://localhost:8080/"
        },
        "id": "4rF3xuxW7a6t",
        "outputId": "35e32262-b304-48cb-81a9-798e7526bc7c"
      },
      "outputs": [
        {
          "output_type": "stream",
          "name": "stdout",
          "text": [
            "Done reading\n"
          ]
        }
      ],
      "source": [
        "import json\n",
        "import logging\n",
        "import pandas as pd\n",
        "import matplotlib.pyplot as plt\n",
        "import numpy as np\n",
        "import networkx as nx\n",
        "import scipy.stats as stats\n",
        "from numpy import inf\n",
        "\n",
        "def read_json(file):\n",
        "      try:\n",
        "        #print('Reading from input')\n",
        "        with open(file, 'r') as f:\n",
        "            return json.load(f)\n",
        "      finally:\n",
        "        print('Done reading')\n",
        "\n",
        "d = read_json('/content/challenge_graph.json')\n",
        "df_1 = pd.DataFrame(d['nodes'])\n",
        "df_2 = pd.DataFrame(d['links'])\n",
        "\n",
        "def read_json_file(filename):\n",
        "    import networkx as nx \n",
        "    with open(filename) as f:\n",
        "        js_graph = json.load(f)\n",
        "        G = nx.Graph()\n",
        "    return nx.node_link_graph(js_graph)\n",
        "\n",
        "G = read_json_file('/content/challenge_graph.json')"
      ]
    },
    {
      "cell_type": "code",
      "source": [
        "#Just one column wil be used because it is said to ignore values for qualities of the nodes q1, q2\n",
        "\n",
        "cleaned_df_1 = df_1.drop(['q1', 'q2'], axis=1)\n",
        "cleaned_df_1.head()"
      ],
      "metadata": {
        "colab": {
          "base_uri": "https://localhost:8080/",
          "height": 206
        },
        "id": "jcLRGN5T7tvi",
        "outputId": "ad5591f9-a488-4236-aba0-7b76607c1eb7"
      },
      "execution_count": 3,
      "outputs": [
        {
          "output_type": "execute_result",
          "data": {
            "text/plain": [
              "            id\n",
              "0  48633953191\n",
              "1   1438155667\n",
              "2  37754729913\n",
              "3  45694946584\n",
              "4   8048097398"
            ],
            "text/html": [
              "\n",
              "  <div id=\"df-d5e9d474-c4a3-4663-839d-81715016b113\">\n",
              "    <div class=\"colab-df-container\">\n",
              "      <div>\n",
              "<style scoped>\n",
              "    .dataframe tbody tr th:only-of-type {\n",
              "        vertical-align: middle;\n",
              "    }\n",
              "\n",
              "    .dataframe tbody tr th {\n",
              "        vertical-align: top;\n",
              "    }\n",
              "\n",
              "    .dataframe thead th {\n",
              "        text-align: right;\n",
              "    }\n",
              "</style>\n",
              "<table border=\"1\" class=\"dataframe\">\n",
              "  <thead>\n",
              "    <tr style=\"text-align: right;\">\n",
              "      <th></th>\n",
              "      <th>id</th>\n",
              "    </tr>\n",
              "  </thead>\n",
              "  <tbody>\n",
              "    <tr>\n",
              "      <th>0</th>\n",
              "      <td>48633953191</td>\n",
              "    </tr>\n",
              "    <tr>\n",
              "      <th>1</th>\n",
              "      <td>1438155667</td>\n",
              "    </tr>\n",
              "    <tr>\n",
              "      <th>2</th>\n",
              "      <td>37754729913</td>\n",
              "    </tr>\n",
              "    <tr>\n",
              "      <th>3</th>\n",
              "      <td>45694946584</td>\n",
              "    </tr>\n",
              "    <tr>\n",
              "      <th>4</th>\n",
              "      <td>8048097398</td>\n",
              "    </tr>\n",
              "  </tbody>\n",
              "</table>\n",
              "</div>\n",
              "      <button class=\"colab-df-convert\" onclick=\"convertToInteractive('df-d5e9d474-c4a3-4663-839d-81715016b113')\"\n",
              "              title=\"Convert this dataframe to an interactive table.\"\n",
              "              style=\"display:none;\">\n",
              "        \n",
              "  <svg xmlns=\"http://www.w3.org/2000/svg\" height=\"24px\"viewBox=\"0 0 24 24\"\n",
              "       width=\"24px\">\n",
              "    <path d=\"M0 0h24v24H0V0z\" fill=\"none\"/>\n",
              "    <path d=\"M18.56 5.44l.94 2.06.94-2.06 2.06-.94-2.06-.94-.94-2.06-.94 2.06-2.06.94zm-11 1L8.5 8.5l.94-2.06 2.06-.94-2.06-.94L8.5 2.5l-.94 2.06-2.06.94zm10 10l.94 2.06.94-2.06 2.06-.94-2.06-.94-.94-2.06-.94 2.06-2.06.94z\"/><path d=\"M17.41 7.96l-1.37-1.37c-.4-.4-.92-.59-1.43-.59-.52 0-1.04.2-1.43.59L10.3 9.45l-7.72 7.72c-.78.78-.78 2.05 0 2.83L4 21.41c.39.39.9.59 1.41.59.51 0 1.02-.2 1.41-.59l7.78-7.78 2.81-2.81c.8-.78.8-2.07 0-2.86zM5.41 20L4 18.59l7.72-7.72 1.47 1.35L5.41 20z\"/>\n",
              "  </svg>\n",
              "      </button>\n",
              "      \n",
              "  <style>\n",
              "    .colab-df-container {\n",
              "      display:flex;\n",
              "      flex-wrap:wrap;\n",
              "      gap: 12px;\n",
              "    }\n",
              "\n",
              "    .colab-df-convert {\n",
              "      background-color: #E8F0FE;\n",
              "      border: none;\n",
              "      border-radius: 50%;\n",
              "      cursor: pointer;\n",
              "      display: none;\n",
              "      fill: #1967D2;\n",
              "      height: 32px;\n",
              "      padding: 0 0 0 0;\n",
              "      width: 32px;\n",
              "    }\n",
              "\n",
              "    .colab-df-convert:hover {\n",
              "      background-color: #E2EBFA;\n",
              "      box-shadow: 0px 1px 2px rgba(60, 64, 67, 0.3), 0px 1px 3px 1px rgba(60, 64, 67, 0.15);\n",
              "      fill: #174EA6;\n",
              "    }\n",
              "\n",
              "    [theme=dark] .colab-df-convert {\n",
              "      background-color: #3B4455;\n",
              "      fill: #D2E3FC;\n",
              "    }\n",
              "\n",
              "    [theme=dark] .colab-df-convert:hover {\n",
              "      background-color: #434B5C;\n",
              "      box-shadow: 0px 1px 3px 1px rgba(0, 0, 0, 0.15);\n",
              "      filter: drop-shadow(0px 1px 2px rgba(0, 0, 0, 0.3));\n",
              "      fill: #FFFFFF;\n",
              "    }\n",
              "  </style>\n",
              "\n",
              "      <script>\n",
              "        const buttonEl =\n",
              "          document.querySelector('#df-d5e9d474-c4a3-4663-839d-81715016b113 button.colab-df-convert');\n",
              "        buttonEl.style.display =\n",
              "          google.colab.kernel.accessAllowed ? 'block' : 'none';\n",
              "\n",
              "        async function convertToInteractive(key) {\n",
              "          const element = document.querySelector('#df-d5e9d474-c4a3-4663-839d-81715016b113');\n",
              "          const dataTable =\n",
              "            await google.colab.kernel.invokeFunction('convertToInteractive',\n",
              "                                                     [key], {});\n",
              "          if (!dataTable) return;\n",
              "\n",
              "          const docLinkHtml = 'Like what you see? Visit the ' +\n",
              "            '<a target=\"_blank\" href=https://colab.research.google.com/notebooks/data_table.ipynb>data table notebook</a>'\n",
              "            + ' to learn more about interactive tables.';\n",
              "          element.innerHTML = '';\n",
              "          dataTable['output_type'] = 'display_data';\n",
              "          await google.colab.output.renderOutput(dataTable, element);\n",
              "          const docLink = document.createElement('div');\n",
              "          docLink.innerHTML = docLinkHtml;\n",
              "          element.appendChild(docLink);\n",
              "        }\n",
              "      </script>\n",
              "    </div>\n",
              "  </div>\n",
              "  "
            ]
          },
          "metadata": {},
          "execution_count": 3
        }
      ]
    },
    {
      "cell_type": "code",
      "source": [
        "from scipy.cluster.hierarchy import linkage, dendrogram"
      ],
      "metadata": {
        "id": "Zcdqpaly75YV"
      },
      "execution_count": 4,
      "outputs": []
    },
    {
      "cell_type": "code",
      "source": [
        "complete_clustering = linkage(cleaned_df_1, method = \"complete\", metric = \"euclidean\")"
      ],
      "metadata": {
        "id": "VrCcd2-N8A61"
      },
      "execution_count": 6,
      "outputs": []
    },
    {
      "cell_type": "code",
      "source": [
        "#This dendrogram shows clustering using method \"complete\", as explained above.\n",
        "dendrogram(complete_clustering)\n",
        "plt.show()"
      ],
      "metadata": {
        "colab": {
          "base_uri": "https://localhost:8080/",
          "height": 449
        },
        "id": "Gfm0BqLK8k_J",
        "outputId": "e11de435-eaee-43d3-d9be-730bbd16367c"
      },
      "execution_count": 9,
      "outputs": [
        {
          "output_type": "display_data",
          "data": {
            "text/plain": [
              "<Figure size 640x480 with 1 Axes>"
            ],
            "image/png": "[encoded data removed]"
          },
          "metadata": {}
        }
      ]
    },
    {
      "cell_type": "code",
      "source": [
        "#These are single clustering (using min distance), and average clustering (using average distance), just to compare with the above one.\n",
        "single_clustering = linkage(cleaned_df_1, method=\"single\", metric=\"euclidean\")\n",
        "average_clustering = linkage(cleaned_df_1, method=\"average\", metric=\"euclidean\")"
      ],
      "metadata": {
        "id": "X11iZ0ec9EOv"
      },
      "execution_count": 10,
      "outputs": []
    },
    {
      "cell_type": "code",
      "source": [
        "dendrogram(average_clustering)\n",
        "plt.show()"
      ],
      "metadata": {
        "colab": {
          "base_uri": "https://localhost:8080/",
          "height": 449
        },
        "id": "OJY0BNiV9Thl",
        "outputId": "bf3ef41c-5fbf-41ee-8405-3635ad7f0a00"
      },
      "execution_count": 11,
      "outputs": [
        {
          "output_type": "display_data",
          "data": {
            "text/plain": [
              "<Figure size 640x480 with 1 Axes>"
            ],
            "image/png": "[encoded data removed]"
          },
          "metadata": {}
        }
      ]
    },
    {
      "cell_type": "code",
      "source": [
        "dendrogram(single_clustering)\n",
        "plt.show()"
      ],
      "metadata": {
        "colab": {
          "base_uri": "https://localhost:8080/",
          "height": 449
        },
        "id": "DiLVZRAx9VwL",
        "outputId": "8e672e0a-717e-4b49-ef9c-83e89a2e6b7c"
      },
      "execution_count": 17,
      "outputs": [
        {
          "output_type": "display_data",
          "data": {
            "text/plain": [
              "<Figure size 640x480 with 1 Axes>"
            ],
            "image/png": "[encoded data removed]"
          },
          "metadata": {}
        }
      ]
    },
    {
      "cell_type": "markdown",
      "source": [
        "This is example of usage linkage with manually computed distance matrix. Which will be done in the Clustering, for our input graph also."
      ],
      "metadata": {
        "id": "vkCTS15qRC4a"
      }
    },
    {
      "cell_type": "code",
      "source": [
        "from scipy.spatial.distance import squareform\n",
        "\n",
        "my_dist = np.array([[0,2,3], [2, 0, 2], [3, 2, 0]])\n",
        "condensed_dist = squareform(my_dist)\n",
        "\n",
        "linkresult = linkage(condensed_dist)"
      ],
      "metadata": {
        "id": "MMRCQC-7-luO"
      },
      "execution_count": 15,
      "outputs": []
    },
    {
      "cell_type": "code",
      "source": [
        "dendrogram(linkresult)\n",
        "plt.show()"
      ],
      "metadata": {
        "colab": {
          "base_uri": "https://localhost:8080/",
          "height": 434
        },
        "id": "H3VNPbCl_VhM",
        "outputId": "ae7b60c1-6b19-4664-8c8b-74dc1d9bbae1"
      },
      "execution_count": 16,
      "outputs": [
        {
          "output_type": "display_data",
          "data": {
            "text/plain": [
              "<Figure size 640x480 with 1 Axes>"
            ],
            "image/png": "[encoded data removed]"
          },
          "metadata": {}
        }
      ]
    }
  ]
}